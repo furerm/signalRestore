{
 "cells": [
  {
   "cell_type": "code",
   "execution_count": 1,
   "metadata": {
    "scrolled": true
   },
   "outputs": [
    {
     "name": "stdout",
     "output_type": "stream",
     "text": [
      "size of t:  1024\n",
      "size of f:  1024\n",
      "f step:  0.48828125\n",
      "f step:  0.48828125\n"
     ]
    },
    {
     "data": {
      "image/png": "[encoded data removed]",
      "text/plain": [
       "<Figure size 432x288 with 1 Axes>"
      ]
     },
     "metadata": {
      "needs_background": "light"
     },
     "output_type": "display_data"
    }
   ],
   "source": [
    "import numpy as np\n",
    "import matplotlib.pyplot as plt\n",
    "from scipy.fft import fft, fftfreq\n",
    "\n",
    "N = 1024  # Number of sample points for x(t) signal [vector dimension]\n",
    "T = 1.0 / 500.0 # sample spacing (dt -> 1000 samples in 1 second)\n",
    "Fs = 1.0 / T  # sampling frequency\n",
    "t = np.linspace(0.0, N * T, N, endpoint=False)\n",
    "f1 = 200.0\n",
    "xt = np.sin(2.0 * np.pi * f1 * t)\n",
    "Xf = fft(xt)\n",
    "# f = fftfreq(N, T)[:N//2]\n",
    "f = fftfreq(N, T)\n",
    "df = Fs / N  # sample spacing frequency\n",
    "print('size of t: ', t.size)\n",
    "print('size of f: ', f.size)\n",
    "print('f step: ', f[1])\n",
    "print('f step: ', df)\n",
    "\n",
    "plt.plot(f, np.abs(Xf))\n",
    "\n",
    "# plt.plot(f, 2.0/N * np.abs(Xf[0:N//2]))\n",
    "plt.grid()\n",
    "plt.show()"
   ]
  },
  {
   "cell_type": "code",
   "execution_count": 29,
   "metadata": {},
   "outputs": [],
   "source": [
    "import numpy as np\n",
    "import matplotlib.pyplot as plt\n",
    "from scipy.fft import fft, fftfreq\n",
    "\n",
    "N = 1024  # Number of sample points for x(t) signal [vector dimension]\n",
    "T = 1.0 / 1000.0 # sample spacing (dt -> 1000 samples in 1 second)\n",
    "t = np.linspace(0.0, N * T, N, endpoint=False)\n",
    "f1 = 100.0\n",
    "xt = np.sin(2.0 * np.pi * f1 * t)\n",
    "Xf = fft(xt)\n",
    "f = fftfreq(N, T)[:N//2]\n",
    "\n",
    "# fig, ax = plt.subplots()\n",
    "\n",
    "# ax.stem(f, np.abs(Xf[:N//2]))"
   ]
  },
  {
   "cell_type": "code",
   "execution_count": null,
   "metadata": {},
   "outputs": [],
   "source": []
  }
 ],
 "metadata": {
  "kernelspec": {
   "display_name": "Python 3",
   "language": "python",
   "name": "python3"
  },
  "language_info": {
   "codemirror_mode": {
    "name": "ipython",
    "version": 3
   },
   "file_extension": ".py",
   "mimetype": "text/x-python",
   "name": "python",
   "nbconvert_exporter": "python",
   "pygments_lexer": "ipython3",
   "version": "3.8.5"
  }
 },
 "nbformat": 4,
 "nbformat_minor": 4
}
